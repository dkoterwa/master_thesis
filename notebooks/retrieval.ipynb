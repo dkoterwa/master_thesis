{
 "cells": [
  {
   "cell_type": "code",
   "execution_count": 1,
   "metadata": {},
   "outputs": [],
   "source": [
    "import pandas as pd\n",
    "import numpy as np\n",
    "import faiss\n",
    "from datasets import load_dataset\n",
    "from faiss import read_index\n",
    "from tqdm import tqdm"
   ]
  },
  {
   "cell_type": "code",
   "execution_count": 5,
   "metadata": {},
   "outputs": [
    {
     "name": "stderr",
     "output_type": "stream",
     "text": [
      "Found cached dataset parquet (/home/zeus/.cache/huggingface/datasets/dkoterwa___parquet/dkoterwa--oasst2_filtered-2e17fd8877b64a5f/0.0.0/2a3b91fbd88a2c90d1dbbb32b460cf621d31bd5b05b934492fdef7d8d6f236ec)\n"
     ]
    }
   ],
   "source": [
    "database_index = read_index(\"../data/faiss_indexes/distiluse-base-multilingual-cased-v2.index\")\n",
    "database_df = pd.read_pickle(\"../data/database.pkl\")\n",
    "test_df = load_dataset(\"dkoterwa/oasst2_filtered\", split=\"train\").to_pandas()\n",
    "test_embeddings = np.load(\"../data/test_embeddings/oasst2_filtered_distiluse-base-multilingual-cased-v2.npy\", allow_pickle=True)"
   ]
  },
  {
   "cell_type": "code",
   "execution_count": 3,
   "metadata": {},
   "outputs": [],
   "source": [
    "def find_neighbors_in_index(candidate: np.ndarray, index: faiss.IndexFlat, k: int=1):\n",
    "    scores, indices = index.search(candidate, k)\n",
    "    return scores, indices"
   ]
  },
  {
   "cell_type": "code",
   "execution_count": 4,
   "metadata": {},
   "outputs": [
    {
     "name": "stderr",
     "output_type": "stream",
     "text": [
      "Retrieving nearest neighbors from index for test embeddings: 100%|██████████| 100/100 [01:14<00:00,  1.34it/s]\n"
     ]
    }
   ],
   "source": [
    "nearest_neighbors_texts = []\n",
    "nearest_neighbors_scores = []\n",
    "for candidate in tqdm(test_embeddings[:100], desc=\"Retrieving nearest neighbors from index for test embeddings\"):\n",
    "    scores, indices = find_neighbors_in_index(np.expand_dims(candidate, axis=0), database_index, k=1)\n",
    "    nearest_neighbor_text = database_df.iloc[indices.item()][\"text\"]\n",
    "    nearest_neighbors_texts.append(nearest_neighbor_text)\n",
    "    nearest_neighbors_scores.append(scores.item())\n",
    "temp_df = test_df.iloc[:100].copy()\n",
    "temp_df[\"nearest_neighbor_text\"] = nearest_neighbors_texts\n",
    "temp_df[\"nearest_neighbor_score\"] = nearest_neighbors_scores"
   ]
  }
 ],
 "metadata": {
  "kernelspec": {
   "display_name": "cloudspace",
   "language": "python",
   "name": "python3"
  },
  "language_info": {
   "codemirror_mode": {
    "name": "ipython",
    "version": 3
   },
   "file_extension": ".py",
   "mimetype": "text/x-python",
   "name": "python",
   "nbconvert_exporter": "python",
   "pygments_lexer": "ipython3",
   "version": "3.10.13"
  }
 },
 "nbformat": 4,
 "nbformat_minor": 2
}
